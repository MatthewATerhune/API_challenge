{
 "cells": [
  {
   "cell_type": "markdown",
   "metadata": {},
   "source": [
    "# WeatherPy\n",
    "----\n",
    "\n",
    "#### Note\n",
    "* Instructions have been included for each segment. You do not have to follow them exactly, but they are included to help you think through the steps."
   ]
  },
  {
   "cell_type": "code",
   "execution_count": null,
   "metadata": {},
   "outputs": [],
   "source": [
    "# Three observations----\n",
    "# 1.)Temperatures seem to get more extreme the closer to the poles you become.\n",
    "# 2.)The lineregress shows humidity increasing the higher the lat  you go. Northern or southern.\n",
    "# 3.)The Cloudiness is inconsistant. Even tho Lineregress shows a particular direction I\n",
    "#     dont think it is very predictable per lat.\n",
    "# 4.)Wind speed is not as conclusive, but the lineregress does show a distinctive direction\n",
    "#     similar to Maxt temp.\n"
   ]
  },
  {
   "cell_type": "code",
   "execution_count": 1,
   "metadata": {
    "scrolled": true
   },
   "outputs": [],
   "source": [
    "# Dependencies and Setup\n",
    "import matplotlib.pyplot as plt\n",
    "import pandas as pd\n",
    "import numpy as np\n",
    "import requests\n",
    "import time\n",
    "from scipy.stats import linregress\n",
    "\n",
    "# Import API key\n",
    "from api_keys import weather_api_key\n",
    "\n",
    "# Incorporated citipy to determine city based on latitude and longitude\n",
    "from citipy import citipy\n",
    "\n",
    "# Output File (CSV)\n",
    "output_data_file = \"output_data/cities.csv\"\n",
    "\n",
    "# Range of latitudes and longitudes\n",
    "lat_range = (-90, 90)\n",
    "lng_range = (-180, 180)"
   ]
  },
  {
   "cell_type": "markdown",
   "metadata": {},
   "source": [
    "## Generate Cities List"
   ]
  },
  {
   "cell_type": "code",
   "execution_count": 2,
   "metadata": {},
   "outputs": [
    {
     "data": {
      "text/plain": [
       "605"
      ]
     },
     "execution_count": 2,
     "metadata": {},
     "output_type": "execute_result"
    }
   ],
   "source": [
    "# List for holding lat_lngs and cities\n",
    "lat_lngs = []\n",
    "cities = []\n",
    "\n",
    "# Create a set of random lat and lng combinations\n",
    "lats = np.random.uniform(lat_range[0], lat_range[1], size=1500)\n",
    "lngs = np.random.uniform(lng_range[0], lng_range[1], size=1500)\n",
    "lat_lngs = zip(lats, lngs)\n",
    "\n",
    "# Identify nearest city for each lat, lng combination\n",
    "for lat_lng in lat_lngs:\n",
    "    city = citipy.nearest_city(lat_lng[0], lat_lng[1]).city_name\n",
    "    \n",
    "    # If the city is unique, then add it to a our cities list\n",
    "    if city not in cities:\n",
    "        cities.append(city)\n",
    "\n",
    "# Print the city count to confirm sufficient count\n",
    "len(cities)"
   ]
  },
  {
   "cell_type": "markdown",
   "metadata": {},
   "source": [
    "### Perform API Calls\n",
    "* Perform a weather check on each city using a series of successive API calls.\n",
    "* Include a print log of each city as it'sbeing processed (with the city number and city name).\n"
   ]
  },
  {
   "cell_type": "code",
   "execution_count": 3,
   "metadata": {},
   "outputs": [
    {
     "name": "stdout",
     "output_type": "stream",
     "text": [
      "Processing record 1|ushuaia\n",
      "Processing record 2|nioro\n",
      "Processing record 3|albany\n",
      "Processing record 4|kirovskiy\n",
      "Processing record 5|leeuwarden\n",
      "Processing record 6|tuatapere\n",
      "Processing record 7|rio gallegos\n",
      "Processing record 8|komsomolskiy\n",
      "Processing record 9|marsberg\n",
      "Processing record 10|launceston\n",
      "Processing record 11|rikitea\n",
      "Processing record 12|buala\n",
      "Processing record 13|hermanus\n",
      "Processing record 14|hithadhoo\n",
      "Processing record 15|barrow\n",
      "Processing record 16|lebu\n",
      "City name not available.\n",
      "City name not available.\n",
      "Processing record 17|provideniya\n",
      "Processing record 18|east london\n",
      "Processing record 19|cape town\n",
      "Processing record 20|fortuna\n",
      "City name not available.\n",
      "City name not available.\n",
      "Processing record 21|dikson\n",
      "Processing record 22|bend\n",
      "Processing record 23|dunedin\n",
      "Processing record 24|hutchinson\n",
      "Processing record 25|maralal\n",
      "Processing record 26|pevek\n",
      "Processing record 27|novobiryusinskiy\n",
      "Processing record 28|lodja\n",
      "Processing record 29|olinda\n",
      "Processing record 30|abatskoye\n",
      "City name not available.\n",
      "Processing record 31|vaini\n",
      "City name not available.\n",
      "Processing record 32|palmer\n",
      "Processing record 33|manokwari\n",
      "Processing record 34|mataura\n",
      "Processing record 35|tuktoyaktuk\n",
      "Processing record 36|port elizabeth\n",
      "Processing record 37|qaanaaq\n",
      "Processing record 38|punta arenas\n",
      "Processing record 39|houma\n",
      "City name not available.\n",
      "City name not available.\n",
      "City name not available.\n",
      "Processing record 40|takoradi\n",
      "Processing record 41|kapaa\n",
      "Processing record 42|hasaki\n",
      "Processing record 43|egvekinot\n",
      "Processing record 44|leningradskiy\n",
      "Processing record 45|faanui\n",
      "City name not available.\n",
      "Processing record 46|kahului\n",
      "Processing record 47|jiayuguan\n",
      "Processing record 48|jardim\n",
      "Processing record 49|bluff\n",
      "Processing record 50|yei\n",
      "Processing record 51|ponta do sol\n",
      "Processing record 52|gillette\n",
      "Processing record 53|lima duarte\n",
      "Processing record 54|charlestown\n",
      "Processing record 55|evanston\n",
      "Processing record 56|khatanga\n",
      "Processing record 57|agadez\n",
      "Processing record 58|jamestown\n",
      "Processing record 59|huarmey\n",
      "Processing record 60|busselton\n",
      "Processing record 61|novopokrovka\n",
      "Processing record 62|chokwe\n",
      "Processing record 63|hamilton\n",
      "Processing record 64|auki\n",
      "Processing record 65|shahreza\n",
      "Processing record 66|antalaha\n",
      "Processing record 67|rundu\n",
      "Processing record 68|coari\n",
      "Processing record 69|tevriz\n",
      "City name not available.\n",
      "Processing record 70|comodoro rivadavia\n",
      "Processing record 71|gelemso\n",
      "Processing record 72|alice springs\n",
      "Processing record 73|kailua\n",
      "Processing record 74|visby\n",
      "Processing record 75|iquitos\n",
      "Processing record 76|thompson\n",
      "City name not available.\n",
      "Processing record 77|soyo\n",
      "Processing record 78|avarua\n",
      "Processing record 79|obihiro\n",
      "Processing record 80|saint-philippe\n",
      "Processing record 81|hilo\n",
      "Processing record 82|bredasdorp\n",
      "Processing record 83|bambous virieux\n",
      "Processing record 84|chontalpa\n",
      "Processing record 85|cap malheureux\n",
      "Processing record 86|bellevue\n",
      "Processing record 87|sibolga\n",
      "Processing record 88|hobart\n",
      "Processing record 89|geraldton\n",
      "Processing record 90|kempsey\n",
      "Processing record 91|ahipara\n",
      "Processing record 92|tasiilaq\n",
      "City name not available.\n",
      "City name not available.\n",
      "Processing record 93|atuona\n",
      "Processing record 94|castro\n",
      "Processing record 95|longyearbyen\n",
      "Processing record 96|billings\n",
      "Processing record 97|kodiak\n",
      "Processing record 98|northam\n",
      "Processing record 99|zhigansk\n",
      "Processing record 100|limulunga\n",
      "Processing record 101|karlskrona\n",
      "Processing record 102|arraial do cabo\n",
      "Processing record 103|karachi\n",
      "Processing record 104|inongo\n",
      "Processing record 105|portland\n",
      "Processing record 106|roma\n",
      "Processing record 107|bathsheba\n",
      "Processing record 108|saint-joseph\n",
      "Processing record 109|butaritari\n",
      "Processing record 110|inhambane\n",
      "Processing record 111|ihosy\n",
      "Processing record 112|victoria\n",
      "Processing record 113|the valley\n",
      "Processing record 114|paraipaba\n",
      "Processing record 115|chimore\n",
      "Processing record 116|diplo\n",
      "Processing record 117|sobolevo\n",
      "Processing record 118|new norfolk\n",
      "Processing record 119|codrington\n",
      "City name not available.\n",
      "Processing record 120|qeshm\n",
      "Processing record 121|vila franca do campo\n",
      "City name not available.\n",
      "Processing record 122|port alfred\n",
      "Processing record 123|norman wells\n",
      "Processing record 124|cidreira\n",
      "Processing record 125|emerald\n",
      "Processing record 126|hualmay\n",
      "Processing record 127|college\n",
      "Processing record 128|clyde river\n",
      "Processing record 129|jedrzejow\n",
      "Processing record 130|guerrero negro\n",
      "City name not available.\n",
      "Processing record 131|richards bay\n",
      "Processing record 132|sitka\n",
      "Processing record 133|nanortalik\n",
      "Processing record 134|warri\n",
      "Processing record 135|shebunino\n",
      "Processing record 136|dingle\n",
      "Processing record 137|batagay\n",
      "Processing record 138|georgetown\n",
      "Processing record 139|chuy\n",
      "Processing record 140|armidale\n",
      "Processing record 141|jalu\n",
      "Processing record 142|cauquenes\n",
      "Processing record 143|constitucion\n",
      "Processing record 144|terrace\n",
      "Processing record 145|fecamp\n",
      "Processing record 146|pacific grove\n",
      "City name not available.\n",
      "Processing record 147|venice\n",
      "Processing record 148|lingao\n",
      "City name not available.\n",
      "Processing record 149|port lincoln\n",
      "Processing record 150|gonaives\n",
      "Processing record 151|canutama\n",
      "Processing record 152|jambi\n",
      "Processing record 153|bubaque\n",
      "Processing record 154|teya\n",
      "Processing record 155|nadym\n",
      "Processing record 156|ankola\n",
      "Processing record 157|boksitogorsk\n",
      "Processing record 158|russell\n",
      "Processing record 159|craig\n",
      "Processing record 160|mogadishu\n",
      "Processing record 161|pokhara\n",
      "Processing record 162|pueblo nuevo\n",
      "Processing record 163|miraflores\n",
      "Processing record 164|berdigestyakh\n",
      "Processing record 165|pisco\n",
      "Processing record 166|grakhovo\n",
      "Processing record 167|kaitangata\n",
      "Processing record 168|san carlos de bariloche\n",
      "Processing record 169|luderitz\n",
      "Processing record 170|flinders\n",
      "Processing record 171|naze\n",
      "City name not available.\n",
      "Processing record 172|mar del plata\n",
      "Processing record 173|severobaykalsk\n",
      "Processing record 174|tazovskiy\n",
      "Processing record 175|vao\n",
      "Processing record 176|lavrentiya\n",
      "Processing record 177|souillac\n",
      "Processing record 178|vanino\n",
      "Processing record 179|paveh\n",
      "Processing record 180|maxixe\n",
      "City name not available.\n",
      "Processing record 181|nikolskoye\n",
      "Processing record 182|carnarvon\n",
      "Processing record 183|talagang\n",
      "Processing record 184|hofn\n",
      "Processing record 185|shimoda\n",
      "City name not available.\n",
      "City name not available.\n",
      "Processing record 186|karnal\n",
      "Processing record 187|mahina\n",
      "Processing record 188|ancud\n",
      "Processing record 189|yellowknife\n",
      "Processing record 190|ust-ordynskiy\n",
      "Processing record 191|serebryanyy bor\n",
      "Processing record 192|krasnoarmeysk\n",
      "Processing record 193|hobyo\n",
      "Processing record 194|rio grande\n",
      "Processing record 195|tobol\n",
      "Processing record 196|mehamn\n",
      "Processing record 197|nome\n",
      "Processing record 198|maceio\n",
      "Processing record 199|khani\n",
      "Processing record 200|abu samrah\n",
      "Processing record 201|khingansk\n",
      "Processing record 202|dehloran\n",
      "Processing record 203|grand gaube\n",
      "Processing record 204|port macquarie\n",
      "Processing record 205|pitea\n",
      "Processing record 206|visnes\n",
      "Processing record 207|klaksvik\n",
      "Processing record 208|bekhtery\n",
      "Processing record 209|labuhan\n",
      "Processing record 210|puerto ayora\n",
      "Processing record 211|kijang\n",
      "Processing record 212|ribeira grande\n",
      "Processing record 213|makakilo city\n",
      "Processing record 214|doctor arroyo\n",
      "Processing record 215|tralee\n",
      "Processing record 216|alugan\n",
      "Processing record 217|camacha\n",
      "Processing record 218|isla mujeres\n",
      "Processing record 219|amahai\n",
      "Processing record 220|woodward\n",
      "Processing record 221|gorom-gorom\n",
      "Processing record 222|westport\n",
      "Processing record 223|cabo san lucas\n",
      "Processing record 224|upernavik\n",
      "Processing record 225|vernon\n",
      "Processing record 226|airai\n",
      "City name not available.\n",
      "Processing record 227|gannan\n",
      "Processing record 228|tucurui\n",
      "Processing record 229|mlonggo\n",
      "Processing record 230|esperance\n",
      "Processing record 231|dudinka\n",
      "Processing record 232|mayo\n",
      "Processing record 233|oranjestad\n",
      "Processing record 234|praia\n",
      "Processing record 235|inuvik\n",
      "City name not available.\n",
      "Processing record 236|kutum\n",
      "Processing record 237|leh\n",
      "Processing record 238|mehran\n",
      "Processing record 239|broome\n",
      "Processing record 240|sola\n",
      "Processing record 241|biharamulo\n",
      "Processing record 242|newport\n",
      "Processing record 243|rorvik\n",
      "Processing record 244|tiksi\n",
      "Processing record 245|seoul\n",
      "Processing record 246|port blair\n",
      "Processing record 247|pitimbu\n"
     ]
    },
    {
     "name": "stdout",
     "output_type": "stream",
     "text": [
      "Processing record 248|san rafael\n",
      "Processing record 249|bhatkal\n",
      "Processing record 250|sarkand\n",
      "Processing record 251|qandala\n",
      "Processing record 252|naftalan\n",
      "Processing record 253|aswan\n",
      "Processing record 254|qaqortoq\n",
      "Processing record 255|chimbote\n",
      "City name not available.\n",
      "City name not available.\n",
      "Processing record 256|tokur\n",
      "Processing record 257|kruisfontein\n",
      "Processing record 258|laguna\n",
      "Processing record 259|tateyama\n",
      "City name not available.\n",
      "Processing record 260|kimbe\n",
      "Processing record 261|olafsvik\n",
      "Processing record 262|cherskiy\n",
      "Processing record 263|itirucu\n",
      "Processing record 264|kerrobert\n",
      "Processing record 265|thinadhoo\n",
      "Processing record 266|petropavlovsk-kamchatskiy\n",
      "Processing record 267|sumbe\n",
      "Processing record 268|banda aceh\n",
      "Processing record 269|storforshei\n",
      "Processing record 270|meulaboh\n",
      "Processing record 271|shache\n",
      "Processing record 272|senneterre\n",
      "Processing record 273|saskylakh\n",
      "Processing record 274|milton\n",
      "Processing record 275|lata\n",
      "Processing record 276|minsk\n",
      "Processing record 277|mahebourg\n",
      "Processing record 278|maltahohe\n",
      "Processing record 279|svetlyy\n",
      "Processing record 280|boffa\n",
      "Processing record 281|paamiut\n",
      "Processing record 282|lompoc\n",
      "Processing record 283|severo-kurilsk\n",
      "Processing record 284|noumea\n",
      "Processing record 285|ugoofaaru\n",
      "Processing record 286|taoudenni\n",
      "Processing record 287|dali\n",
      "Processing record 288|haines junction\n",
      "Processing record 289|porto murtinho\n",
      "Processing record 290|mulanje\n",
      "Processing record 291|namatanai\n",
      "Processing record 292|jejuri\n",
      "Processing record 293|nalut\n",
      "Processing record 294|halifax\n",
      "Processing record 295|moengo\n",
      "Processing record 296|vallenar\n",
      "Processing record 297|ust-kuyga\n",
      "Processing record 298|pimentel\n",
      "Processing record 299|tambura\n",
      "Processing record 300|beloha\n",
      "Processing record 301|arlit\n",
      "Processing record 302|qui nhon\n",
      "Processing record 303|siniscola\n",
      "Processing record 304|coquimbo\n",
      "Processing record 305|itarema\n",
      "Processing record 306|srednekolymsk\n",
      "Processing record 307|opuwo\n",
      "Processing record 308|broken hill\n",
      "Processing record 309|morbegno\n",
      "Processing record 310|narsaq\n",
      "Processing record 311|vilhena\n",
      "Processing record 312|aripuana\n",
      "City name not available.\n",
      "Processing record 313|minab\n",
      "Processing record 314|nenagh\n",
      "Processing record 315|kasongo-lunda\n",
      "City name not available.\n",
      "Processing record 316|vestmannaeyjar\n",
      "City name not available.\n",
      "Processing record 317|kalianget\n",
      "Processing record 318|matagami\n",
      "Processing record 319|rizhao\n",
      "Processing record 320|lackawanna\n",
      "Processing record 321|campina grande do sul\n",
      "Processing record 322|aklavik\n",
      "Processing record 323|inyonga\n",
      "Processing record 324|cockburn town\n",
      "Processing record 325|ballina\n",
      "Processing record 326|asau\n",
      "Processing record 327|bousso\n",
      "Processing record 328|havre-saint-pierre\n",
      "Processing record 329|mishelevka\n",
      "Processing record 330|great bend\n",
      "Processing record 331|bethel\n",
      "Processing record 332|mandera\n",
      "Processing record 333|pangnirtung\n",
      "Processing record 334|assiniboia\n",
      "Processing record 335|pringsewu\n",
      "Processing record 336|wad rawah\n",
      "Processing record 337|hervey bay\n",
      "Processing record 338|jalalabad\n",
      "Processing record 339|sorland\n",
      "Processing record 340|along\n",
      "Processing record 341|sur\n",
      "Processing record 342|bouna\n",
      "Processing record 343|yulara\n",
      "Processing record 344|mumford\n",
      "Processing record 345|ambilobe\n",
      "Processing record 346|key west\n",
      "Processing record 347|karpathos\n",
      "Processing record 348|kenai\n",
      "City name not available.\n",
      "City name not available.\n",
      "Processing record 349|tuban\n",
      "Processing record 350|wum\n",
      "Processing record 351|nara\n",
      "Processing record 352|yerbogachen\n",
      "Processing record 353|panlaitan\n",
      "Processing record 354|kavieng\n",
      "Processing record 355|vostok\n",
      "Processing record 356|shwebo\n",
      "Processing record 357|yuxia\n",
      "Processing record 358|atikokan\n",
      "City name not available.\n",
      "Processing record 359|raton\n",
      "Processing record 360|iwanai\n",
      "Processing record 361|ulaanbaatar\n",
      "Processing record 362|lakatoro\n",
      "Processing record 363|gamba\n",
      "Processing record 364|muisne\n",
      "Processing record 365|yatou\n",
      "City name not available.\n",
      "Processing record 366|la ronge\n",
      "Processing record 367|marzuq\n",
      "Processing record 368|ust-tsilma\n",
      "Processing record 369|natal\n",
      "Processing record 370|hay river\n",
      "Processing record 371|bairiki\n",
      "Processing record 372|nelson bay\n",
      "Processing record 373|saint-paul\n",
      "City name not available.\n",
      "Processing record 374|sao joao da barra\n",
      "Processing record 375|la palma\n",
      "City name not available.\n",
      "Processing record 376|saint anthony\n",
      "Processing record 377|macau\n",
      "Processing record 378|medicine hat\n",
      "Processing record 379|moussoro\n",
      "Processing record 380|markova\n",
      "Processing record 381|birao\n",
      "Processing record 382|chicama\n",
      "Processing record 383|savinka\n",
      "Processing record 384|pangai\n",
      "Processing record 385|hornepayne\n",
      "Processing record 386|bud\n",
      "Processing record 387|guiyang\n",
      "Processing record 388|mabaruma\n",
      "Processing record 389|nizhnyaya omka\n",
      "Processing record 390|sao filipe\n",
      "Processing record 391|touros\n",
      "Processing record 392|mormugao\n",
      "Processing record 393|araouane\n",
      "Processing record 394|xingyi\n",
      "Processing record 395|saldanha\n",
      "Processing record 396|caravelas\n",
      "Processing record 397|jieshou\n",
      "Processing record 398|kindia\n",
      "Processing record 399|tual\n",
      "Processing record 400|pathein\n",
      "Processing record 401|ketchikan\n",
      "Processing record 402|mount isa\n",
      "Processing record 403|olga\n",
      "Processing record 404|albacete\n",
      "Processing record 405|grindavik\n",
      "Processing record 406|pacifica\n",
      "Processing record 407|morondava\n",
      "Processing record 408|hirara\n",
      "Processing record 409|lander\n",
      "Processing record 410|bria\n",
      "Processing record 411|fairbanks\n",
      "Processing record 412|kavaratti\n",
      "Processing record 413|porto torres\n",
      "City name not available.\n",
      "Processing record 414|muros\n",
      "Processing record 415|sable-sur-sarthe\n",
      "Processing record 416|vila velha\n",
      "Processing record 417|podgorica\n",
      "Processing record 418|burnie\n",
      "Processing record 419|szentkiraly\n",
      "Processing record 420|saint-pierre\n",
      "Processing record 421|freeport\n",
      "Processing record 422|lorengau\n",
      "Processing record 423|chokurdakh\n",
      "Processing record 424|ortega\n",
      "Processing record 425|hami\n",
      "Processing record 426|huilong\n",
      "Processing record 427|dobrinka\n",
      "Processing record 428|piacabucu\n",
      "Processing record 429|tura\n",
      "Processing record 430|liberal\n",
      "Processing record 431|north bend\n",
      "Processing record 432|puerto colombia\n",
      "Processing record 433|okha\n",
      "Processing record 434|gilau\n",
      "Processing record 435|lake havasu city\n",
      "Processing record 436|victor harbor\n",
      "Processing record 437|sulya\n",
      "Processing record 438|worland\n",
      "Processing record 439|presidencia roque saenz pena\n",
      "City name not available.\n",
      "Processing record 440|bowen\n",
      "Processing record 441|adrar\n",
      "Processing record 442|avdiyivka\n",
      "Processing record 443|najran\n",
      "Processing record 444|waipawa\n",
      "Processing record 445|talnakh\n",
      "Processing record 446|gorin\n",
      "Processing record 447|tartagal\n",
      "Processing record 448|port hedland\n",
      "Processing record 449|carutapera\n",
      "Processing record 450|bulgan\n",
      "Processing record 451|pichayevo\n",
      "Processing record 452|ewa beach\n",
      "City name not available.\n",
      "Processing record 453|sinnamary\n",
      "Processing record 454|contai\n",
      "Processing record 455|roald\n",
      "City name not available.\n",
      "Processing record 456|margate\n",
      "Processing record 457|aksarka\n",
      "Processing record 458|lalsot\n",
      "Processing record 459|kisesa\n",
      "Processing record 460|vitina\n",
      "Processing record 461|ipameri\n",
      "Processing record 462|coracao de jesus\n",
      "Processing record 463|san quintin\n",
      "Processing record 464|sun prairie\n",
      "Processing record 465|canberra\n",
      "Processing record 466|kalmunai\n",
      "Processing record 467|liling\n",
      "Processing record 468|evensk\n",
      "Processing record 469|doka\n",
      "Processing record 470|puerto lempira\n",
      "City name not available.\n",
      "Processing record 471|mashhad\n",
      "City name not available.\n",
      "Processing record 472|kununurra\n",
      "Processing record 473|torbay\n",
      "Processing record 474|urdoma\n",
      "Processing record 475|lugo\n",
      "Processing record 476|hiriyur\n",
      "Processing record 477|ambon\n",
      "Processing record 478|dhidhdhoo\n",
      "Processing record 479|hanyang\n",
      "Processing record 480|cayenne\n",
      "Processing record 481|namibe\n",
      "Processing record 482|cabedelo\n",
      "Processing record 483|traverse city\n",
      "Processing record 484|terme\n",
      "Processing record 485|paramonga\n",
      "Processing record 486|matay\n",
      "Processing record 487|nuevo progreso\n",
      "Processing record 488|biak\n",
      "Processing record 489|trincomalee\n",
      "Processing record 490|vanimo\n",
      "Processing record 491|saint george\n",
      "City name not available.\n",
      "Processing record 492|dicabisagan\n",
      "Processing record 493|kudahuvadhoo\n",
      "City name not available.\n",
      "Processing record 494|camargo\n",
      "Processing record 495|saint-francois\n"
     ]
    },
    {
     "name": "stdout",
     "output_type": "stream",
     "text": [
      "Processing record 496|haldwani\n",
      "Processing record 497|campbellton\n",
      "Processing record 498|gat\n",
      "Processing record 499|nabannagan\n",
      "Processing record 500|gualaquiza\n",
      "Processing record 501|bengkulu\n",
      "Processing record 502|karnobat\n",
      "Processing record 503|cortez\n",
      "Processing record 504|erzin\n",
      "Processing record 505|lekoni\n",
      "Processing record 506|zitlala\n",
      "Processing record 507|lahaina\n",
      "City name not available.\n",
      "Processing record 508|bima\n",
      "Processing record 509|yangambi\n",
      "Processing record 510|middelburg\n",
      "Processing record 511|bontang\n",
      "Processing record 512|half moon bay\n",
      "Processing record 513|karratha\n",
      "Processing record 514|los llanos de aridane\n",
      "Processing record 515|karpogory\n",
      "Processing record 516|srandakan\n",
      "Processing record 517|turan\n",
      "City name not available.\n",
      "Processing record 518|tonantins\n",
      "Processing record 519|burgersdorp\n",
      "Processing record 520|bonthe\n",
      "Processing record 521|warrnambool\n",
      "Processing record 522|brzeg\n",
      "Processing record 523|tautira\n",
      "City name not available.\n",
      "Processing record 524|mount gambier\n",
      "Processing record 525|sarany\n",
      "Processing record 526|volksrust\n",
      "Processing record 527|gimli\n",
      "Processing record 528|thio\n",
      "Processing record 529|utete\n",
      "Processing record 530|acapulco\n",
      "Processing record 531|port hardy\n",
      "Processing record 532|igarka\n",
      "Processing record 533|gazli\n",
      "City name not available.\n",
      "Processing record 534|vagur\n",
      "Processing record 535|wajima\n",
      "Processing record 536|ostrovnoy\n",
      "Processing record 537|mitsamiouli\n",
      "Processing record 538|isangel\n",
      "Processing record 539|arinos\n",
      "Processing record 540|aranos\n",
      "Processing record 541|zdvinsk\n",
      "Processing record 542|castelnau-le-lez\n",
      "Processing record 543|oxapampa\n",
      "Processing record 544|progreso\n",
      "Processing record 545|fort saint james\n",
      "Processing record 546|sarangani\n",
      "City name not available.\n",
      "Processing record 547|lazaro cardenas\n",
      "Processing record 548|baishishan\n",
      "Processing record 549|willmar\n",
      "City name not available.\n",
      "Processing record 550|coihaique\n",
      "Processing record 551|mbandaka\n",
      "Processing record 552|kupang\n",
      "Processing record 553|moroni\n",
      "Processing record 554|staryy nadym\n"
     ]
    }
   ],
   "source": [
    "url = \"http://api.openweathermap.org/data/2.5/weather?units=Imperial&\"\n",
    "\n",
    "cloudiness = []\n",
    "country = []\n",
    "date = []\n",
    "max_temp = []\n",
    "humidity = []\n",
    "lat = []\n",
    "lng = []\n",
    "wind_speed = []\n",
    "city_name = []\n",
    "\n",
    "# Loop through cities making the API call\n",
    "i = 1\n",
    "for city in cities:\n",
    "    query_url = url + \"appid=\" + weather_api_key + \"&q=\" + city\n",
    "    response = requests.get(query_url).json()\n",
    "    # print(response)\n",
    "    # break\n",
    "    \n",
    "    try:\n",
    "        cloudiness.append(response[\"clouds\"][\"all\"])\n",
    "        country.append(response[\"sys\"][\"country\"])\n",
    "        date.append(response[\"dt\"])\n",
    "        max_temp.append(response[\"main\"]['temp_max'])\n",
    "        humidity.append(response[\"main\"]['humidity'])\n",
    "        lat.append(response[\"coord\"][\"lat\"])  \n",
    "        lng.append(response[\"coord\"][\"lon\"])\n",
    "        wind_speed.append(response[\"wind\"][\"speed\"])\n",
    "        city_name.append(response[\"name\"])\n",
    "        print(f\"Processing record {i}|{city}\")\n",
    "        i+=1\n",
    "        \n",
    "    except (KeyError):\n",
    "        print(\"City name not available.\")\n"
   ]
  },
  {
   "cell_type": "markdown",
   "metadata": {},
   "source": [
    "### Convert Raw Data to DataFrame\n",
    "* Export the city data into a .csv.\n",
    "* Display the DataFrame"
   ]
  },
  {
   "cell_type": "code",
   "execution_count": 4,
   "metadata": {},
   "outputs": [
    {
     "data": {
      "text/html": [
       "<div>\n",
       "<style scoped>\n",
       "    .dataframe tbody tr th:only-of-type {\n",
       "        vertical-align: middle;\n",
       "    }\n",
       "\n",
       "    .dataframe tbody tr th {\n",
       "        vertical-align: top;\n",
       "    }\n",
       "\n",
       "    .dataframe thead th {\n",
       "        text-align: right;\n",
       "    }\n",
       "</style>\n",
       "<table border=\"1\" class=\"dataframe\">\n",
       "  <thead>\n",
       "    <tr style=\"text-align: right;\">\n",
       "      <th></th>\n",
       "      <th>City</th>\n",
       "      <th>Lat</th>\n",
       "      <th>Lng</th>\n",
       "      <th>Max Temp</th>\n",
       "      <th>Humidity</th>\n",
       "      <th>Cloudiness</th>\n",
       "      <th>Wind Speed</th>\n",
       "      <th>Country</th>\n",
       "      <th>Date</th>\n",
       "    </tr>\n",
       "    <tr>\n",
       "      <th>City ID</th>\n",
       "      <th></th>\n",
       "      <th></th>\n",
       "      <th></th>\n",
       "      <th></th>\n",
       "      <th></th>\n",
       "      <th></th>\n",
       "      <th></th>\n",
       "      <th></th>\n",
       "      <th></th>\n",
       "    </tr>\n",
       "  </thead>\n",
       "  <tbody>\n",
       "    <tr>\n",
       "      <th>0</th>\n",
       "      <td>Ushuaia</td>\n",
       "      <td>-54.80</td>\n",
       "      <td>-68.30</td>\n",
       "      <td>44.60</td>\n",
       "      <td>70</td>\n",
       "      <td>40</td>\n",
       "      <td>34.52</td>\n",
       "      <td>AR</td>\n",
       "      <td>1618590338</td>\n",
       "    </tr>\n",
       "    <tr>\n",
       "      <th>1</th>\n",
       "      <td>Nioro</td>\n",
       "      <td>13.35</td>\n",
       "      <td>-15.75</td>\n",
       "      <td>104.59</td>\n",
       "      <td>10</td>\n",
       "      <td>50</td>\n",
       "      <td>6.73</td>\n",
       "      <td>GM</td>\n",
       "      <td>1618590608</td>\n",
       "    </tr>\n",
       "  </tbody>\n",
       "</table>\n",
       "</div>"
      ],
      "text/plain": [
       "            City    Lat    Lng  Max Temp  Humidity  Cloudiness  Wind Speed  \\\n",
       "City ID                                                                      \n",
       "0        Ushuaia -54.80 -68.30     44.60        70          40       34.52   \n",
       "1          Nioro  13.35 -15.75    104.59        10          50        6.73   \n",
       "\n",
       "        Country        Date  \n",
       "City ID                      \n",
       "0            AR  1618590338  \n",
       "1            GM  1618590608  "
      ]
     },
     "execution_count": 4,
     "metadata": {},
     "output_type": "execute_result"
    }
   ],
   "source": [
    "city_df = pd.DataFrame({\"City\": city_name, \n",
    "                        \"Lat\": lat,\n",
    "                        \"Lng\": lng,\n",
    "                        \"Max Temp\": max_temp,\n",
    "                        \"Humidity\":humidity,\n",
    "                        \"Cloudiness\": cloudiness, \n",
    "                        \"Wind Speed\": wind_speed,\n",
    "                        \"Country\": country, \n",
    "                        \"Date\": date, \n",
    "                                         })\n",
    "\n",
    "city_df = city_df.rename_axis('City ID')\n",
    "\n",
    "city_df.head(2)\n"
   ]
  },
  {
   "cell_type": "code",
   "execution_count": 5,
   "metadata": {},
   "outputs": [
    {
     "data": {
      "text/html": [
       "<div>\n",
       "<style scoped>\n",
       "    .dataframe tbody tr th:only-of-type {\n",
       "        vertical-align: middle;\n",
       "    }\n",
       "\n",
       "    .dataframe tbody tr th {\n",
       "        vertical-align: top;\n",
       "    }\n",
       "\n",
       "    .dataframe thead th {\n",
       "        text-align: right;\n",
       "    }\n",
       "</style>\n",
       "<table border=\"1\" class=\"dataframe\">\n",
       "  <thead>\n",
       "    <tr style=\"text-align: right;\">\n",
       "      <th></th>\n",
       "      <th>Lat</th>\n",
       "      <th>Lng</th>\n",
       "      <th>Max Temp</th>\n",
       "      <th>Humidity</th>\n",
       "      <th>Cloudiness</th>\n",
       "      <th>Wind Speed</th>\n",
       "      <th>Date</th>\n",
       "    </tr>\n",
       "  </thead>\n",
       "  <tbody>\n",
       "    <tr>\n",
       "      <th>count</th>\n",
       "      <td>554.000000</td>\n",
       "      <td>554.000000</td>\n",
       "      <td>554.000000</td>\n",
       "      <td>554.000000</td>\n",
       "      <td>554.000000</td>\n",
       "      <td>554.000000</td>\n",
       "      <td>5.540000e+02</td>\n",
       "    </tr>\n",
       "    <tr>\n",
       "      <th>mean</th>\n",
       "      <td>18.469871</td>\n",
       "      <td>16.062159</td>\n",
       "      <td>60.998989</td>\n",
       "      <td>66.759928</td>\n",
       "      <td>55.797834</td>\n",
       "      <td>8.778087</td>\n",
       "      <td>1.618591e+09</td>\n",
       "    </tr>\n",
       "    <tr>\n",
       "      <th>std</th>\n",
       "      <td>33.009431</td>\n",
       "      <td>92.443723</td>\n",
       "      <td>22.515999</td>\n",
       "      <td>23.277595</td>\n",
       "      <td>37.249206</td>\n",
       "      <td>6.620854</td>\n",
       "      <td>8.010760e+01</td>\n",
       "    </tr>\n",
       "    <tr>\n",
       "      <th>min</th>\n",
       "      <td>-54.800000</td>\n",
       "      <td>-179.166700</td>\n",
       "      <td>-14.040000</td>\n",
       "      <td>3.000000</td>\n",
       "      <td>0.000000</td>\n",
       "      <td>0.430000</td>\n",
       "      <td>1.618590e+09</td>\n",
       "    </tr>\n",
       "    <tr>\n",
       "      <th>25%</th>\n",
       "      <td>-8.386275</td>\n",
       "      <td>-68.175550</td>\n",
       "      <td>46.400000</td>\n",
       "      <td>53.000000</td>\n",
       "      <td>20.000000</td>\n",
       "      <td>4.487500</td>\n",
       "      <td>1.618591e+09</td>\n",
       "    </tr>\n",
       "    <tr>\n",
       "      <th>50%</th>\n",
       "      <td>21.374550</td>\n",
       "      <td>22.387250</td>\n",
       "      <td>64.400000</td>\n",
       "      <td>72.000000</td>\n",
       "      <td>68.000000</td>\n",
       "      <td>6.970000</td>\n",
       "      <td>1.618591e+09</td>\n",
       "    </tr>\n",
       "    <tr>\n",
       "      <th>75%</th>\n",
       "      <td>46.374300</td>\n",
       "      <td>97.312825</td>\n",
       "      <td>78.800000</td>\n",
       "      <td>84.750000</td>\n",
       "      <td>90.000000</td>\n",
       "      <td>11.500000</td>\n",
       "      <td>1.618591e+09</td>\n",
       "    </tr>\n",
       "    <tr>\n",
       "      <th>max</th>\n",
       "      <td>78.218600</td>\n",
       "      <td>178.416700</td>\n",
       "      <td>105.940000</td>\n",
       "      <td>100.000000</td>\n",
       "      <td>100.000000</td>\n",
       "      <td>47.450000</td>\n",
       "      <td>1.618591e+09</td>\n",
       "    </tr>\n",
       "  </tbody>\n",
       "</table>\n",
       "</div>"
      ],
      "text/plain": [
       "              Lat         Lng    Max Temp    Humidity  Cloudiness  Wind Speed  \\\n",
       "count  554.000000  554.000000  554.000000  554.000000  554.000000  554.000000   \n",
       "mean    18.469871   16.062159   60.998989   66.759928   55.797834    8.778087   \n",
       "std     33.009431   92.443723   22.515999   23.277595   37.249206    6.620854   \n",
       "min    -54.800000 -179.166700  -14.040000    3.000000    0.000000    0.430000   \n",
       "25%     -8.386275  -68.175550   46.400000   53.000000   20.000000    4.487500   \n",
       "50%     21.374550   22.387250   64.400000   72.000000   68.000000    6.970000   \n",
       "75%     46.374300   97.312825   78.800000   84.750000   90.000000   11.500000   \n",
       "max     78.218600  178.416700  105.940000  100.000000  100.000000   47.450000   \n",
       "\n",
       "               Date  \n",
       "count  5.540000e+02  \n",
       "mean   1.618591e+09  \n",
       "std    8.010760e+01  \n",
       "min    1.618590e+09  \n",
       "25%    1.618591e+09  \n",
       "50%    1.618591e+09  \n",
       "75%    1.618591e+09  \n",
       "max    1.618591e+09  "
      ]
     },
     "execution_count": 5,
     "metadata": {},
     "output_type": "execute_result"
    }
   ],
   "source": [
    "city_df.describe()"
   ]
  },
  {
   "cell_type": "markdown",
   "metadata": {},
   "source": [
    "## Inspect the data and remove the cities where the humidity > 100%.\n",
    "----\n",
    "Skip this step if there are no cities that have humidity > 100%. "
   ]
  },
  {
   "cell_type": "code",
   "execution_count": 6,
   "metadata": {},
   "outputs": [
    {
     "data": {
      "text/html": [
       "<div>\n",
       "<style scoped>\n",
       "    .dataframe tbody tr th:only-of-type {\n",
       "        vertical-align: middle;\n",
       "    }\n",
       "\n",
       "    .dataframe tbody tr th {\n",
       "        vertical-align: top;\n",
       "    }\n",
       "\n",
       "    .dataframe thead th {\n",
       "        text-align: right;\n",
       "    }\n",
       "</style>\n",
       "<table border=\"1\" class=\"dataframe\">\n",
       "  <thead>\n",
       "    <tr style=\"text-align: right;\">\n",
       "      <th></th>\n",
       "      <th>City</th>\n",
       "      <th>Lat</th>\n",
       "      <th>Lng</th>\n",
       "      <th>Max Temp</th>\n",
       "      <th>Humidity</th>\n",
       "      <th>Cloudiness</th>\n",
       "      <th>Wind Speed</th>\n",
       "      <th>Country</th>\n",
       "      <th>Date</th>\n",
       "    </tr>\n",
       "    <tr>\n",
       "      <th>City ID</th>\n",
       "      <th></th>\n",
       "      <th></th>\n",
       "      <th></th>\n",
       "      <th></th>\n",
       "      <th></th>\n",
       "      <th></th>\n",
       "      <th></th>\n",
       "      <th></th>\n",
       "      <th></th>\n",
       "    </tr>\n",
       "  </thead>\n",
       "  <tbody>\n",
       "  </tbody>\n",
       "</table>\n",
       "</div>"
      ],
      "text/plain": [
       "Empty DataFrame\n",
       "Columns: [City, Lat, Lng, Max Temp, Humidity, Cloudiness, Wind Speed, Country, Date]\n",
       "Index: []"
      ]
     },
     "execution_count": 6,
     "metadata": {},
     "output_type": "execute_result"
    }
   ],
   "source": [
    "humid_city = city_df.loc[city_df[\"Humidity\"] > 100]\n",
    "humid_city.head()"
   ]
  },
  {
   "cell_type": "code",
   "execution_count": 7,
   "metadata": {},
   "outputs": [
    {
     "data": {
      "text/html": [
       "<div>\n",
       "<style scoped>\n",
       "    .dataframe tbody tr th:only-of-type {\n",
       "        vertical-align: middle;\n",
       "    }\n",
       "\n",
       "    .dataframe tbody tr th {\n",
       "        vertical-align: top;\n",
       "    }\n",
       "\n",
       "    .dataframe thead th {\n",
       "        text-align: right;\n",
       "    }\n",
       "</style>\n",
       "<table border=\"1\" class=\"dataframe\">\n",
       "  <thead>\n",
       "    <tr style=\"text-align: right;\">\n",
       "      <th></th>\n",
       "      <th>City</th>\n",
       "      <th>Lat</th>\n",
       "      <th>Lng</th>\n",
       "      <th>Max Temp</th>\n",
       "      <th>Humidity</th>\n",
       "      <th>Cloudiness</th>\n",
       "      <th>Wind Speed</th>\n",
       "      <th>Country</th>\n",
       "      <th>Date</th>\n",
       "    </tr>\n",
       "    <tr>\n",
       "      <th>City ID</th>\n",
       "      <th></th>\n",
       "      <th></th>\n",
       "      <th></th>\n",
       "      <th></th>\n",
       "      <th></th>\n",
       "      <th></th>\n",
       "      <th></th>\n",
       "      <th></th>\n",
       "      <th></th>\n",
       "    </tr>\n",
       "  </thead>\n",
       "  <tbody>\n",
       "    <tr>\n",
       "      <th>0</th>\n",
       "      <td>Ushuaia</td>\n",
       "      <td>-54.8000</td>\n",
       "      <td>-68.3000</td>\n",
       "      <td>44.60</td>\n",
       "      <td>70</td>\n",
       "      <td>40</td>\n",
       "      <td>34.52</td>\n",
       "      <td>AR</td>\n",
       "      <td>1618590338</td>\n",
       "    </tr>\n",
       "    <tr>\n",
       "      <th>1</th>\n",
       "      <td>Nioro</td>\n",
       "      <td>13.3500</td>\n",
       "      <td>-15.7500</td>\n",
       "      <td>104.59</td>\n",
       "      <td>10</td>\n",
       "      <td>50</td>\n",
       "      <td>6.73</td>\n",
       "      <td>GM</td>\n",
       "      <td>1618590608</td>\n",
       "    </tr>\n",
       "    <tr>\n",
       "      <th>2</th>\n",
       "      <td>Albany</td>\n",
       "      <td>42.6001</td>\n",
       "      <td>-73.9662</td>\n",
       "      <td>42.01</td>\n",
       "      <td>76</td>\n",
       "      <td>100</td>\n",
       "      <td>1.01</td>\n",
       "      <td>US</td>\n",
       "      <td>1618590331</td>\n",
       "    </tr>\n",
       "    <tr>\n",
       "      <th>3</th>\n",
       "      <td>Kirovskiy</td>\n",
       "      <td>45.0917</td>\n",
       "      <td>133.5136</td>\n",
       "      <td>42.64</td>\n",
       "      <td>88</td>\n",
       "      <td>93</td>\n",
       "      <td>5.91</td>\n",
       "      <td>RU</td>\n",
       "      <td>1618590609</td>\n",
       "    </tr>\n",
       "    <tr>\n",
       "      <th>4</th>\n",
       "      <td>Leeuwarden</td>\n",
       "      <td>53.2014</td>\n",
       "      <td>5.8086</td>\n",
       "      <td>50.00</td>\n",
       "      <td>61</td>\n",
       "      <td>7</td>\n",
       "      <td>13.80</td>\n",
       "      <td>NL</td>\n",
       "      <td>1618590609</td>\n",
       "    </tr>\n",
       "    <tr>\n",
       "      <th>5</th>\n",
       "      <td>Tuatapere</td>\n",
       "      <td>-46.1333</td>\n",
       "      <td>167.6833</td>\n",
       "      <td>42.01</td>\n",
       "      <td>94</td>\n",
       "      <td>71</td>\n",
       "      <td>3.00</td>\n",
       "      <td>NZ</td>\n",
       "      <td>1618590609</td>\n",
       "    </tr>\n",
       "    <tr>\n",
       "      <th>6</th>\n",
       "      <td>Río Gallegos</td>\n",
       "      <td>-51.6226</td>\n",
       "      <td>-69.2181</td>\n",
       "      <td>51.80</td>\n",
       "      <td>30</td>\n",
       "      <td>0</td>\n",
       "      <td>36.82</td>\n",
       "      <td>AR</td>\n",
       "      <td>1618590610</td>\n",
       "    </tr>\n",
       "    <tr>\n",
       "      <th>7</th>\n",
       "      <td>Yangi Marg`ilon</td>\n",
       "      <td>40.4272</td>\n",
       "      <td>71.7189</td>\n",
       "      <td>64.40</td>\n",
       "      <td>45</td>\n",
       "      <td>6</td>\n",
       "      <td>2.30</td>\n",
       "      <td>UZ</td>\n",
       "      <td>1618590610</td>\n",
       "    </tr>\n",
       "    <tr>\n",
       "      <th>8</th>\n",
       "      <td>Marsberg</td>\n",
       "      <td>51.4617</td>\n",
       "      <td>8.8495</td>\n",
       "      <td>50.00</td>\n",
       "      <td>43</td>\n",
       "      <td>0</td>\n",
       "      <td>8.05</td>\n",
       "      <td>DE</td>\n",
       "      <td>1618590610</td>\n",
       "    </tr>\n",
       "    <tr>\n",
       "      <th>9</th>\n",
       "      <td>Launceston</td>\n",
       "      <td>-41.4500</td>\n",
       "      <td>147.1667</td>\n",
       "      <td>39.99</td>\n",
       "      <td>93</td>\n",
       "      <td>2</td>\n",
       "      <td>8.05</td>\n",
       "      <td>AU</td>\n",
       "      <td>1618590611</td>\n",
       "    </tr>\n",
       "  </tbody>\n",
       "</table>\n",
       "</div>"
      ],
      "text/plain": [
       "                    City      Lat       Lng  Max Temp  Humidity  Cloudiness  \\\n",
       "City ID                                                                       \n",
       "0                Ushuaia -54.8000  -68.3000     44.60        70          40   \n",
       "1                  Nioro  13.3500  -15.7500    104.59        10          50   \n",
       "2                 Albany  42.6001  -73.9662     42.01        76         100   \n",
       "3              Kirovskiy  45.0917  133.5136     42.64        88          93   \n",
       "4             Leeuwarden  53.2014    5.8086     50.00        61           7   \n",
       "5              Tuatapere -46.1333  167.6833     42.01        94          71   \n",
       "6           Río Gallegos -51.6226  -69.2181     51.80        30           0   \n",
       "7        Yangi Marg`ilon  40.4272   71.7189     64.40        45           6   \n",
       "8               Marsberg  51.4617    8.8495     50.00        43           0   \n",
       "9             Launceston -41.4500  147.1667     39.99        93           2   \n",
       "\n",
       "         Wind Speed Country        Date  \n",
       "City ID                                  \n",
       "0             34.52      AR  1618590338  \n",
       "1              6.73      GM  1618590608  \n",
       "2              1.01      US  1618590331  \n",
       "3              5.91      RU  1618590609  \n",
       "4             13.80      NL  1618590609  \n",
       "5              3.00      NZ  1618590609  \n",
       "6             36.82      AR  1618590610  \n",
       "7              2.30      UZ  1618590610  \n",
       "8              8.05      DE  1618590610  \n",
       "9              8.05      AU  1618590611  "
      ]
     },
     "execution_count": 7,
     "metadata": {},
     "output_type": "execute_result"
    }
   ],
   "source": [
    "city_df.head(10)"
   ]
  },
  {
   "cell_type": "code",
   "execution_count": 8,
   "metadata": {},
   "outputs": [],
   "source": [
    "#  Get the indices of cities that have humidity over 100%.\n",
    "index_list = city_df[(city_df[\"Humidity\"] > 100)].index\n",
    "                                  \n",
    "for index in index_list:\n",
    "    print(index)\n"
   ]
  },
  {
   "cell_type": "code",
   "execution_count": 9,
   "metadata": {},
   "outputs": [
    {
     "data": {
      "text/plain": [
       "554"
      ]
     },
     "execution_count": 9,
     "metadata": {},
     "output_type": "execute_result"
    }
   ],
   "source": [
    "city_df[\"City\"].count()"
   ]
  },
  {
   "cell_type": "code",
   "execution_count": 12,
   "metadata": {},
   "outputs": [
    {
     "data": {
      "text/plain": [
       "554"
      ]
     },
     "execution_count": 12,
     "metadata": {},
     "output_type": "execute_result"
    }
   ],
   "source": [
    "# Make a new DataFrame equal to the city data to drop all humidity outliers by index.\n",
    "# Passing \"inplace=False\" will make a copy of the city_data DataFrame, which we call \"clean_city_data\".\n",
    "clean_city_df = city_df.drop(index_list, inplace=False)\n",
    "# Clean_city_df.to_csv('weather_df.csv')\n",
    "clean_city_df[\"City\"].count()\n"
   ]
  },
  {
   "cell_type": "code",
   "execution_count": 14,
   "metadata": {},
   "outputs": [],
   "source": [
    "# save to CSV file\n",
    "clean_city_df.to_csv('weather_df.csv')"
   ]
  },
  {
   "cell_type": "markdown",
   "metadata": {},
   "source": [
    "## Plotting the Data\n",
    "* Use proper labeling of the plots using plot titles (including date of analysis) and axes labels.\n",
    "* Save the plotted figures as .pngs."
   ]
  },
  {
   "cell_type": "markdown",
   "metadata": {},
   "source": [
    "## Latitude vs. Temperature Plot"
   ]
  },
  {
   "cell_type": "code",
   "execution_count": 15,
   "metadata": {},
   "outputs": [
    {
     "data": {
      "image/png": "[encoded data removed]",
      "text/plain": [
       "<Figure size 432x288 with 1 Axes>"
      ]
     },
     "metadata": {
      "needs_background": "light"
     },
     "output_type": "display_data"
    }
   ],
   "source": [
    "# create and label scatter plot\n",
    "plt.scatter(clean_city_df[\"Lat\"], clean_city_df[\"Max Temp\"], marker=\"o\",edgecolor='b', s=10)\n",
    "plt.title(\"City Latitude vs. Max Temperature (Add date)\")\n",
    "plt.ylabel(\"Max. Temperature (F)\")\n",
    "plt.xlabel(\"Latitude\")\n",
    "plt.grid(True)\n",
    "# save scatter\n",
    "plt.savefig(\"Weatherpy_Max_Temp_vs_Latitude.png\")\n",
    "plt.show()"
   ]
  },
  {
   "cell_type": "markdown",
   "metadata": {},
   "source": [
    "## Latitude vs. Humidity Plot"
   ]
  },
  {
   "cell_type": "code",
   "execution_count": 16,
   "metadata": {},
   "outputs": [
    {
     "data": {
      "image/png": "[encoded data removed]",
      "text/plain": [
       "<Figure size 432x288 with 1 Axes>"
      ]
     },
     "metadata": {
      "needs_background": "light"
     },
     "output_type": "display_data"
    }
   ],
   "source": [
    "# create and label scatter plot\n",
    "plt.scatter(clean_city_df[\"Lat\"], clean_city_df[\"Humidity\"], marker=\"o\",edgecolor='b', s=10)\n",
    "plt.title(\"City Latitude vs. Humidity(Add date)\")\n",
    "plt.ylabel(\"Max. Temperature (F)\")\n",
    "plt.xlabel(\"Latitude\")\n",
    "plt.grid(True)\n",
    "# save scatter\n",
    "plt.savefig(\"Weatherpy_Max_Temp_vs_Humidity.png\")\n",
    "plt.show()"
   ]
  },
  {
   "cell_type": "markdown",
   "metadata": {},
   "source": [
    "## Latitude vs. Cloudiness Plot"
   ]
  },
  {
   "cell_type": "code",
   "execution_count": 17,
   "metadata": {},
   "outputs": [
    {
     "data": {
      "image/png": "[encoded data removed]",
      "text/plain": [
       "<Figure size 432x288 with 1 Axes>"
      ]
     },
     "metadata": {
      "needs_background": "light"
     },
     "output_type": "display_data"
    }
   ],
   "source": [
    "# create and label scatter plot\n",
    "plt.scatter(clean_city_df[\"Lat\"], clean_city_df[\"Cloudiness\"], marker=\"o\",edgecolor='b', s=10)\n",
    "plt.title(\"City Latitude vs. Cloudiness (Add date)\")\n",
    "plt.ylabel(\"Max. Temperature (F)\")\n",
    "plt.xlabel(\"Latitude\")\n",
    "plt.grid(True)\n",
    "# save scatter\n",
    "plt.savefig(\"Weatherpy_Max_Temp_vs_Cloudiness.png\")\n",
    "plt.show()"
   ]
  },
  {
   "cell_type": "markdown",
   "metadata": {},
   "source": [
    "## Latitude vs. Wind Speed Plot"
   ]
  },
  {
   "cell_type": "code",
   "execution_count": 18,
   "metadata": {},
   "outputs": [
    {
     "data": {
      "image/png": "[encoded data removed]",
      "text/plain": [
       "<Figure size 432x288 with 1 Axes>"
      ]
     },
     "metadata": {
      "needs_background": "light"
     },
     "output_type": "display_data"
    }
   ],
   "source": [
    "# create and label scatter plot\n",
    "plt.scatter(clean_city_df[\"Lat\"], clean_city_df[\"Wind Speed\"], marker=\"o\",edgecolor='b', s=10)\n",
    "plt.title(\"City Latitude vs. Windspeed (Add date)\")\n",
    "plt.ylabel(\"Windspeed\")\n",
    "plt.xlabel(\"Latitude\")\n",
    "plt.grid(True)\n",
    "# save scatter\n",
    "plt.savefig(\"Weatherpy_Max_Temp_vs_Windspeed.png\")\n",
    "plt.show()"
   ]
  },
  {
   "cell_type": "markdown",
   "metadata": {},
   "source": [
    "## Linear Regression"
   ]
  },
  {
   "cell_type": "code",
   "execution_count": 19,
   "metadata": {},
   "outputs": [],
   "source": [
    "# create Northern,souther hemispher  DF then calculate regression\n",
    "north_hem_df = clean_city_df.loc[clean_city_df[\"Lat\"] > 0]\n",
    "# north_hem_df.head()\n",
    "south_hem_df = clean_city_df.loc[clean_city_df[\"Lat\"] <= 0]\n",
    "# south_hem_df.head()\n",
    "\n"
   ]
  },
  {
   "cell_type": "markdown",
   "metadata": {},
   "source": [
    "####  Northern Hemisphere - Max Temp vs. Latitude Linear Regression"
   ]
  },
  {
   "cell_type": "code",
   "execution_count": 20,
   "metadata": {},
   "outputs": [
    {
     "data": {
      "text/plain": [
       "105.94"
      ]
     },
     "execution_count": 20,
     "metadata": {},
     "output_type": "execute_result"
    }
   ],
   "source": [
    "north_hem_df['Max Temp'].max()\n"
   ]
  },
  {
   "cell_type": "code",
   "execution_count": 21,
   "metadata": {},
   "outputs": [
    {
     "name": "stdout",
     "output_type": "stream",
     "text": [
      "r value is: -0.8760244393921598\n"
     ]
    },
    {
     "data": {
      "image/png": "[encoded data removed]",
      "text/plain": [
       "<Figure size 432x288 with 1 Axes>"
      ]
     },
     "metadata": {
      "needs_background": "light"
     },
     "output_type": "display_data"
    }
   ],
   "source": [
    "m_temp = north_hem_df['Max Temp']\n",
    "Lat=north_hem_df['Lat']\n",
    "(slope, intercept, rvalue, pvalue, stderr) = linregress(m_temp, Lat)\n",
    "\n",
    " # y=mx+b slope calculation\n",
    "s_fit = m_temp * slope + intercept\n",
    "\n",
    "line_eq = \"y = \" + str(round(slope,2))+ \"x + \" + str(round(intercept,2))\n",
    "\n",
    "plt.scatter(m_temp,Lat)\n",
    "plt.plot(m_temp,s_fit,\"r--\")\n",
    "plt.xlabel(\"Latitude\")\n",
    "plt.ylabel(\"Max Temp (F)\")\n",
    "plt.title(\"Max Temp v Latitude Lineregress model\")\n",
    "plt.xlim(north_hem_df['Max Temp'].min() - 5 ,north_hem_df['Max Temp'].max()+5)\n",
    "plt.ylim(north_hem_df['Lat'].min() -5,north_hem_df['Lat'].max() +5)\n",
    "plt.rcParams.update({'font.size': 10})\n",
    "plt.annotate(line_eq,(-15,10),fontsize=15,color=\"red\")\n",
    "print(f'r value is: {rvalue}')\n",
    "plt.savefig(\"Weatherpy_North_Max_temp_lregress.png\")\n",
    "plt.show()\n",
    "# graph shows greater the lat lower the temp"
   ]
  },
  {
   "cell_type": "markdown",
   "metadata": {},
   "source": [
    "####  Southern Hemisphere - Max Temp vs. Latitude Linear Regression"
   ]
  },
  {
   "cell_type": "code",
   "execution_count": 22,
   "metadata": {},
   "outputs": [
    {
     "name": "stdout",
     "output_type": "stream",
     "text": [
      "r value is: 0.7138720896864109\n"
     ]
    },
    {
     "data": {
      "image/png": "[encoded data removed]",
      "text/plain": [
       "<Figure size 432x288 with 1 Axes>"
      ]
     },
     "metadata": {
      "needs_background": "light"
     },
     "output_type": "display_data"
    }
   ],
   "source": [
    "m_temp = south_hem_df['Max Temp']\n",
    "Lat=south_hem_df['Lat']\n",
    "(slope, intercept, rvalue, pvalue, stderr) = linregress(m_temp, Lat)\n",
    "\n",
    " # y=mx+b slope calculation\n",
    "s_fit = m_temp * slope + intercept\n",
    "\n",
    "line_eq = \"y = \" + str(round(slope,2))+ \"x + \" + str(round(intercept,2))\n",
    "\n",
    "plt.scatter(m_temp,Lat)\n",
    "plt.plot(m_temp,s_fit,\"r--\")\n",
    "plt.xlabel(\"Latitude\")\n",
    "plt.ylabel(\"Max Temp (F)\")\n",
    "plt.title(\"Max Temp v Latitude Lineregress model\")\n",
    "plt.xlim(south_hem_df['Max Temp'].min() - 5 ,south_hem_df['Max Temp'].max()+5)\n",
    "plt.ylim(south_hem_df['Lat'].min()-5,south_hem_df['Lat'].max() +5)\n",
    "plt.rcParams.update({'font.size': 10})\n",
    "plt.annotate(line_eq,(40,-5),fontsize=15,color=\"red\")\n",
    "print(f'r value is: {rvalue}')\n",
    "plt.savefig(\"Weatherpy_south_Max_temp_lregress.png\")\n",
    "plt.show()\n",
    "# graph shows in southern hemisphere greater the lat higher the temp"
   ]
  },
  {
   "cell_type": "markdown",
   "metadata": {},
   "source": [
    "####  Northern Hemisphere - Humidity (%) vs. Latitude Linear Regression"
   ]
  },
  {
   "cell_type": "code",
   "execution_count": 23,
   "metadata": {},
   "outputs": [
    {
     "name": "stdout",
     "output_type": "stream",
     "text": [
      "r value is: 0.2631216374645157\n"
     ]
    },
    {
     "data": {
      "image/png": "[encoded data removed]",
      "text/plain": [
       "<Figure size 432x288 with 1 Axes>"
      ]
     },
     "metadata": {
      "needs_background": "light"
     },
     "output_type": "display_data"
    }
   ],
   "source": [
    "hum = north_hem_df['Humidity']\n",
    "Lat=north_hem_df['Lat']\n",
    "(slope, intercept, rvalue, pvalue, stderr) = linregress(hum, Lat)\n",
    "\n",
    " # y=mx+b slope calculation\n",
    "s_fit = hum * slope + intercept\n",
    "\n",
    "line_eq = \"y = \" + str(round(slope,2))+ \"x + \" + str(round(intercept,2))\n",
    "\n",
    "plt.scatter(hum,Lat)\n",
    "plt.plot(hum,s_fit,\"r--\")\n",
    "plt.xlabel(\"Latitude\")\n",
    "plt.ylabel(\"Humidity (%)\")\n",
    "plt.title(\"Humidity v Latitude Lineregress model\")\n",
    "plt.xlim(north_hem_df['Humidity'].min() - 5 ,north_hem_df['Humidity'].max()+5)\n",
    "plt.ylim(north_hem_df['Lat'].min() -5,north_hem_df['Lat'].max() +5)\n",
    "plt.rcParams.update({'font.size': 10})\n",
    "plt.annotate(line_eq,(0,70),fontsize=15,color=\"red\")\n",
    "print(f'r value is: {rvalue}')\n",
    "plt.savefig(\"Weatherpy_North_Hum_lregress.png\")\n",
    "plt.show()"
   ]
  },
  {
   "cell_type": "markdown",
   "metadata": {},
   "source": [
    "####  Southern Hemisphere - Humidity (%) vs. Latitude Linear Regression"
   ]
  },
  {
   "cell_type": "code",
   "execution_count": 24,
   "metadata": {},
   "outputs": [
    {
     "name": "stdout",
     "output_type": "stream",
     "text": [
      "r value is: 0.2519016741917679\n"
     ]
    },
    {
     "data": {
      "image/png": "[encoded data removed]",
      "text/plain": [
       "<Figure size 432x288 with 1 Axes>"
      ]
     },
     "metadata": {
      "needs_background": "light"
     },
     "output_type": "display_data"
    }
   ],
   "source": [
    "s_hum = south_hem_df['Humidity']\n",
    "Lat=south_hem_df['Lat']\n",
    "(slope, intercept, rvalue, pvalue, stderr) = linregress(s_hum, Lat)\n",
    "\n",
    " # y=mx+b slope calculation\n",
    "s_fit = s_hum * slope + intercept\n",
    "\n",
    "line_eq = \"y = \" + str(round(slope,2))+ \"x + \" + str(round(intercept,2))\n",
    "\n",
    "plt.scatter(s_hum,Lat)\n",
    "plt.plot(s_hum,s_fit,\"r--\")\n",
    "plt.xlabel(\"Latitude\")\n",
    "plt.ylabel(\"Humidity\")\n",
    "plt.title(\"Humidity v Latitude Lineregress model\")\n",
    "plt.xlim(south_hem_df['Humidity'].min() - 5 ,south_hem_df['Humidity'].max()+5)\n",
    "plt.ylim(south_hem_df['Lat'].min()-5,south_hem_df['Lat'].max() +5)\n",
    "plt.rcParams.update({'font.size': 10})\n",
    "plt.annotate(line_eq,(10,0),fontsize=15,color=\"red\")\n",
    "print(f'r value is: {rvalue}')\n",
    "plt.savefig(\"Weatherpy_wouth_hum_lregress.png\")\n",
    "plt.show()"
   ]
  },
  {
   "cell_type": "markdown",
   "metadata": {},
   "source": [
    "####  Northern Hemisphere - Cloudiness (%) vs. Latitude Linear Regression"
   ]
  },
  {
   "cell_type": "code",
   "execution_count": 25,
   "metadata": {},
   "outputs": [
    {
     "name": "stdout",
     "output_type": "stream",
     "text": [
      "r value is: 0.04573835197982267\n"
     ]
    },
    {
     "data": {
      "image/png": "[encoded data removed]",
      "text/plain": [
       "<Figure size 432x288 with 1 Axes>"
      ]
     },
     "metadata": {
      "needs_background": "light"
     },
     "output_type": "display_data"
    }
   ],
   "source": [
    "cloudiness = north_hem_df['Cloudiness']\n",
    "Lat=north_hem_df['Lat']\n",
    "(slope, intercept, rvalue, pvalue, stderr) = linregress(cloudiness, Lat)\n",
    "\n",
    " # y=mx+b slope calculation\n",
    "s_fit = cloudiness * slope + intercept\n",
    "\n",
    "line_eq = \"y = \" + str(round(slope,2))+ \"x + \" + str(round(intercept,2))\n",
    "\n",
    "plt.scatter(cloudiness,Lat)\n",
    "plt.plot(cloudiness,s_fit,\"r--\")\n",
    "plt.xlabel(\"Latitude\")\n",
    "plt.ylabel(\"cloudiness\")\n",
    "plt.title(\"cloudiness v Latitude Lineregress model\")\n",
    "plt.xlim(north_hem_df['Cloudiness'].min() - 5 ,north_hem_df['Cloudiness'].max()+5)\n",
    "plt.ylim(north_hem_df['Lat'].min() -5,north_hem_df['Lat'].max() +5)\n",
    "plt.rcParams.update({'font.size': 10})\n",
    "plt.annotate(line_eq,(0,75),fontsize=15,color=\"red\")\n",
    "print(f'r value is: {rvalue}')\n",
    "plt.savefig(\"Weatherpy_North_cloud_lregress.png\")\n",
    "plt.show()\n",
    "# Cloudiness is kind of everywhere"
   ]
  },
  {
   "cell_type": "markdown",
   "metadata": {},
   "source": [
    "####  Southern Hemisphere - Cloudiness (%) vs. Latitude Linear Regression"
   ]
  },
  {
   "cell_type": "code",
   "execution_count": 26,
   "metadata": {},
   "outputs": [
    {
     "name": "stdout",
     "output_type": "stream",
     "text": [
      "r value is: 0.24453037760049628\n"
     ]
    },
    {
     "data": {
      "image/png": "[encoded data removed]",
      "text/plain": [
       "<Figure size 432x288 with 1 Axes>"
      ]
     },
     "metadata": {
      "needs_background": "light"
     },
     "output_type": "display_data"
    }
   ],
   "source": [
    "s_cloud = south_hem_df['Cloudiness']\n",
    "Lat=south_hem_df['Lat']\n",
    "(slope, intercept, rvalue, pvalue, stderr) = linregress(s_cloud, Lat)\n",
    "\n",
    " # y=mx+b slope calculation\n",
    "s_fit = s_cloud * slope + intercept\n",
    "\n",
    "line_eq = \"y = \" + str(round(slope,2))+ \"x + \" + str(round(intercept,2))\n",
    "\n",
    "plt.scatter(s_cloud,Lat)\n",
    "plt.plot(s_cloud,s_fit,\"r--\")\n",
    "plt.xlabel(\"Latitude\")\n",
    "plt.ylabel(\"Cloudiness\")\n",
    "plt.title(\"Cloudiness (%)v Latitude Lineregress model\")\n",
    "plt.xlim(south_hem_df['Cloudiness'].min() - 5 ,south_hem_df['Cloudiness'].max()+5)\n",
    "plt.ylim(south_hem_df['Lat'].min()-5,south_hem_df['Lat'].max() +5)\n",
    "plt.rcParams.update({'font.size': 10})\n",
    "plt.annotate(line_eq,(10,0),fontsize=15,color=\"red\")\n",
    "print(f'r value is: {rvalue}')\n",
    "plt.savefig(\"Weatherpy_South_cloud_lregress.png\")\n",
    "plt.show()\n",
    "# cloudiness all over the place inconsistant "
   ]
  },
  {
   "cell_type": "markdown",
   "metadata": {},
   "source": [
    "####  Northern Hemisphere - Wind Speed (mph) vs. Latitude Linear Regression"
   ]
  },
  {
   "cell_type": "code",
   "execution_count": 27,
   "metadata": {},
   "outputs": [
    {
     "name": "stdout",
     "output_type": "stream",
     "text": [
      "r value is: 0.1558857571431101\n"
     ]
    },
    {
     "data": {
      "image/png": "[encoded data removed]",
      "text/plain": [
       "<Figure size 432x288 with 1 Axes>"
      ]
     },
     "metadata": {
      "needs_background": "light"
     },
     "output_type": "display_data"
    }
   ],
   "source": [
    "windspeed = north_hem_df['Wind Speed']\n",
    "Lat=north_hem_df['Lat']\n",
    "(slope, intercept, rvalue, pvalue, stderr) = linregress(windspeed, Lat)\n",
    "\n",
    " # y=mx+b slope calculation\n",
    "s_fit = windspeed * slope + intercept\n",
    "\n",
    "line_eq = \"y = \" + str(round(slope,2))+ \"x + \" + str(round(intercept,2))\n",
    "\n",
    "plt.scatter(windspeed,Lat)\n",
    "plt.plot(windspeed,s_fit,\"r--\")\n",
    "plt.xlabel(\"Latitude\")\n",
    "plt.ylabel(\"Wind Speed\")\n",
    "plt.title(\"Wind Speed v Latitude Lineregress model\")\n",
    "plt.xlim(north_hem_df['Wind Speed'].min() - 5 ,north_hem_df['Wind Speed'].max()-15)\n",
    "plt.ylim(north_hem_df['Lat'].min() -5,north_hem_df['Lat'].max() +5)\n",
    "plt.rcParams.update({'font.size': 10})\n",
    "plt.annotate(line_eq,(0,75),fontsize=15,color=\"red\")\n",
    "print(f'r value is: {rvalue}')\n",
    "plt.savefig(\"Weatherpy_North_windspeed_lregress.png\")\n",
    "plt.show()\n",
    "#windspeeds pretty consisstant even thou moving up higher the lat"
   ]
  },
  {
   "cell_type": "markdown",
   "metadata": {},
   "source": [
    "####  Southern Hemisphere - Wind Speed (mph) vs. Latitude Linear Regression"
   ]
  },
  {
   "cell_type": "code",
   "execution_count": 28,
   "metadata": {},
   "outputs": [
    {
     "name": "stdout",
     "output_type": "stream",
     "text": [
      "r value is: -0.27309723433506455\n"
     ]
    },
    {
     "data": {
      "image/png": "[encoded data removed]",
      "text/plain": [
       "<Figure size 432x288 with 1 Axes>"
      ]
     },
     "metadata": {
      "needs_background": "light"
     },
     "output_type": "display_data"
    }
   ],
   "source": [
    "s_windspeed = south_hem_df['Wind Speed']\n",
    "Lat=south_hem_df['Lat']\n",
    "(slope, intercept, rvalue, pvalue, stderr) = linregress(s_windspeed, Lat)\n",
    "\n",
    " # y=mx+b slope calculation\n",
    "s_fit = s_windspeed * slope + intercept\n",
    "\n",
    "line_eq = \"y = \" + str(round(slope,2))+ \"x + \" + str(round(intercept,2))\n",
    "\n",
    "plt.scatter(s_windspeed,Lat)\n",
    "plt.plot(s_windspeed,s_fit,\"r--\")\n",
    "plt.xlabel(\"Latitude\")\n",
    "plt.ylabel(\"Wind Speed\")\n",
    "plt.title(\"Wind Speed v Latitude Lineregress model\")\n",
    "plt.xlim(south_hem_df['Wind Speed'].min() - 5 ,south_hem_df['Wind Speed'].max()+5)\n",
    "plt.ylim(south_hem_df['Lat'].min()-5,south_hem_df['Lat'].max() +5)\n",
    "plt.rcParams.update({'font.size': 10})\n",
    "plt.annotate(line_eq,(10,0),fontsize=15,color=\"red\")\n",
    "print(f'r value is: {rvalue}')\n",
    "plt.savefig(\"Weatherpy_south_windspeed_lregress.png\")\n",
    "plt.show()\n",
    "# windspeed are pretty consistant even tho moving down higher the lat"
   ]
  },
  {
   "cell_type": "code",
   "execution_count": null,
   "metadata": {},
   "outputs": [],
   "source": []
  }
 ],
 "metadata": {
  "anaconda-cloud": {},
  "kernel_info": {
   "name": "python3"
  },
  "kernelspec": {
   "display_name": "Python 3",
   "language": "python",
   "name": "python3"
  },
  "language_info": {
   "codemirror_mode": {
    "name": "ipython",
    "version": 3
   },
   "file_extension": ".py",
   "mimetype": "text/x-python",
   "name": "python",
   "nbconvert_exporter": "python",
   "pygments_lexer": "ipython3",
   "version": "3.8.5"
  },
  "latex_envs": {
   "LaTeX_envs_menu_present": true,
   "autoclose": false,
   "autocomplete": true,
   "bibliofile": "biblio.bib",
   "cite_by": "apalike",
   "current_citInitial": 1,
   "eqLabelWithNumbers": true,
   "eqNumInitial": 1,
   "hotkeys": {
    "equation": "Ctrl-E",
    "itemize": "Ctrl-I"
   },
   "labels_anchors": false,
   "latex_user_defs": false,
   "report_style_numbering": false,
   "user_envs_cfg": false
  },
  "nteract": {
   "version": "0.12.3"
  }
 },
 "nbformat": 4,
 "nbformat_minor": 2
}
